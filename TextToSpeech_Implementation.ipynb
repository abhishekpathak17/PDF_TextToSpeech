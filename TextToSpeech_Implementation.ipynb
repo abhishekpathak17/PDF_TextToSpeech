{
 "cells": [
  {
   "cell_type": "markdown",
   "metadata": {},
   "source": [
    "#### Importing the ConnectivityTest file which has the function 'web_isconnected()' to check if there is internet conectivity or not. This will be used later in the code below."
   ]
  },
  {
   "cell_type": "code",
   "execution_count": 1,
   "metadata": {},
   "outputs": [],
   "source": [
    "%%capture\n",
    "%run ConnectivityTest.ipynb"
   ]
  },
  {
   "cell_type": "code",
   "execution_count": 156,
   "metadata": {},
   "outputs": [],
   "source": [
    "# example for the function call from the 'ConnectivityTest' jupyter notebook to test for the connection.\n",
    "\n",
    "# if web_isconnected():\n",
    "#     print(\"Internet Running!!\")\n",
    "# else:\n",
    "#     print(\"Internet Down!!\")"
   ]
  },
  {
   "cell_type": "code",
   "execution_count": 2,
   "metadata": {},
   "outputs": [],
   "source": [
    "# Importing other libraries required in the notebook\n",
    "\n",
    "from PyPDF2 import PdfFileReader\n",
    "import gtts\n",
    "from playsound import playsound\n",
    "import pyttsx3"
   ]
  },
  {
   "cell_type": "markdown",
   "metadata": {},
   "source": [
    "#### To convert any PDF to a audio book we first a.) need to convert the PDF file into text and then b.) text to speech consecutively. We would look at the 2ns step later in this notebook but for the 1st step we would make use of the PyPDF2 module (pip install PyPDF2) which also accepts multipage PDF. Below is the code for the same:"
   ]
  },
  {
   "cell_type": "markdown",
   "metadata": {},
   "source": [
    "PdfFileReader is the class that is used to initialize the reader object which takes a stream parameter. This is where the file stream for the PDF file is provided. \n",
    "Now, opening the file in read binary ('rb') mode:"
   ]
  },
  {
   "cell_type": "code",
   "execution_count": 3,
   "metadata": {},
   "outputs": [],
   "source": [
    "file = open('SamplePDF.pdf','rb')"
   ]
  },
  {
   "cell_type": "code",
   "execution_count": 4,
   "metadata": {},
   "outputs": [],
   "source": [
    "# Instantiating the reader object\n",
    "reader = PdfFileReader(file)"
   ]
  },
  {
   "cell_type": "code",
   "execution_count": 5,
   "metadata": {},
   "outputs": [
    {
     "name": "stdout",
     "output_type": "stream",
     "text": [
      "\n",
      " Number of Pages in this document: 2\n"
     ]
    }
   ],
   "source": [
    "print(f\"\\n Number of Pages in this document: {reader.getNumPages()}\")"
   ]
  },
  {
   "cell_type": "code",
   "execution_count": 6,
   "metadata": {},
   "outputs": [],
   "source": [
    "# Initialising the variable with the total number of pages that are available in the PDF.\n",
    "totalpages = reader.getNumPages()"
   ]
  },
  {
   "cell_type": "code",
   "execution_count": 7,
   "metadata": {},
   "outputs": [],
   "source": [
    "# Method to extract the text from all the pages in string format and prefix it with the page number before each page.\n",
    "def textExtraction(allpages):\n",
    "    readstep = \"\"\n",
    "    for i in range(allpages):\n",
    "        readstep = readstep + f\"Page Number:{i+1}\" + \"                          \"\n",
    "        pageText = reader.getPage(i)\n",
    "        nextread = readstep + f\"{pageText.extractText()}\" + \"                          \"\n",
    "        readstep = nextread\n",
    "    return readstep\n",
    "    file.close()"
   ]
  },
  {
   "cell_type": "code",
   "execution_count": 8,
   "metadata": {},
   "outputs": [
    {
     "data": {
      "text/plain": [
       "'Page Number:1                           A Simple PDF File  This is a small demonstration .pdf file -  just for use in the Virtual Mechanics tutorials. More text. And more  text. And more text. And more text. And more text.  And more text. And more text. And more text. And more text. And more  text. And more text. Boring, zzzzz. And more text. And more text. And  more text. And more text. And more text. And more text. And more text.  And more text. And more text.  And more text. And more text. And more text. And more text. And more  text. And more text. And more text. Even more. Continued on page 2 ...                          Page Number:2                           Simple PDF File 2  ...continued from page 1. Yet more text. And more text. And more text.  And more text. And more text. And more text. And more text. And more  text. Oh, how boring typing this stuff. But not as boring as watching  paint dry. And more text. And more text. And more text. And more text.  Boring.  More, a little more text. The end, and just as well.                           '"
      ]
     },
     "execution_count": 8,
     "metadata": {},
     "output_type": "execute_result"
    }
   ],
   "source": [
    "# Text extracted from sample PDF using the above function.\n",
    "textExtraction(totalpages)"
   ]
  },
  {
   "cell_type": "code",
   "execution_count": 9,
   "metadata": {},
   "outputs": [],
   "source": [
    "# Initializing the variable 'text' which would store all the text from the PDF file obtained from running the above function.\n",
    "text = textExtraction(totalpages)"
   ]
  },
  {
   "cell_type": "markdown",
   "metadata": {},
   "source": [
    "#### The below piece of code is for a reason that gTTS API works only if you are online whereas another API called pyttsx3 works offline as well. But if you want to use more reliable synthesis then Google TTS API is your choice, if you just want to make it work a lot faster and without Internet connection then you should use pyttsx3 library.\n",
    "#### Therefore, I first check if internet is available or not & if it is available then I use gTTS API else I use pyttsx3 API."
   ]
  },
  {
   "cell_type": "code",
   "execution_count": 13,
   "metadata": {},
   "outputs": [],
   "source": [
    "# Next few lines are the only code required to convert text to speech. It uses the readily available API.\n",
    "\n",
    "if web_isconnected(): # if internet is available then use gTTS.\n",
    "    textToSpeech = gtts.gTTS(text) # Converting test to speech.\n",
    "    textToSpeech.save('gtts_sampleoutput.mp3')\n",
    "else: # if internet is not available then use pyttsx3.\n",
    "    intitiation = pyttsx3.init()\n",
    "    voices = intitiation.getProperty(\"voices\") # This is just to check different voices that are available.\n",
    "    intitiation.setProperty(\"voice\", voices[0].id) # Choosing one of the voice in which output would be stored.\n",
    "    intitiation.setProperty(\"rate\", 150) # This property is to set the rate at which the words are read out.\n",
    "    intitiation.save_to_file(text,'pyttsx_sampleoutput.mp3')\n",
    "    intitiation.runAndWait()"
   ]
  }
 ],
 "metadata": {
  "kernelspec": {
   "display_name": "Python 3",
   "language": "python",
   "name": "python3"
  },
  "language_info": {
   "codemirror_mode": {
    "name": "ipython",
    "version": 3
   },
   "file_extension": ".py",
   "mimetype": "text/x-python",
   "name": "python",
   "nbconvert_exporter": "python",
   "pygments_lexer": "ipython3",
   "version": "3.8.3"
  }
 },
 "nbformat": 4,
 "nbformat_minor": 4
}
